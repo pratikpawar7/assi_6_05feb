{
 "cells": [
  {
   "cell_type": "code",
   "execution_count": null,
   "id": "37fc871b-8fc3-40eb-8dde-187f3f266cc4",
   "metadata": {},
   "outputs": [],
   "source": [
    "'''\n",
    "Q1. Explain Class and Object with respect to Object-Oriented Programming. Give a suitable example.\n",
    "'''\n",
    "\n",
    "class : class is an blueprint and template of an object \n",
    "object : object is instance of the class "
   ]
  },
  {
   "cell_type": "code",
   "execution_count": 21,
   "id": "f22156d3-0849-4621-ae87-50880f37cd28",
   "metadata": {},
   "outputs": [
    {
     "name": "stdout",
     "output_type": "stream",
     "text": [
      "This is the function of the class \n"
     ]
    }
   ],
   "source": [
    "#ex of class and obj \n",
    "\n",
    "class pratik:               # pratik is a class \n",
    "    def func(self):\n",
    "        print(\"This is the function of the class \")\n",
    "  "
   ]
  },
  {
   "cell_type": "code",
   "execution_count": 22,
   "id": "29101bfb-19f0-46bb-8ceb-b7bd2aeba301",
   "metadata": {},
   "outputs": [
    {
     "name": "stdout",
     "output_type": "stream",
     "text": [
      "This is the function of the class \n"
     ]
    }
   ],
   "source": [
    "\n",
    "obj = pratik()\n",
    "obj.func()            # here obj is the object of the class pratik \n"
   ]
  },
  {
   "cell_type": "code",
   "execution_count": null,
   "id": "d0b76d11-eb02-439d-88a2-892823a28106",
   "metadata": {},
   "outputs": [],
   "source": [
    "'''Q2. Name the four pillars of OOPs.'''\n",
    "\n",
    "Abstraction :  hide the internal details and show only essential information \n",
    "Polymorphism  : one entity many forms \n",
    "Inheritance   : inhert property and methods of the parent class\n",
    "Encapsulation : wrape a code like  capsule \n",
    "\n"
   ]
  },
  {
   "cell_type": "code",
   "execution_count": 25,
   "id": "9918d3b0-6ff1-44b6-b8c4-788fc14bc2e8",
   "metadata": {},
   "outputs": [
    {
     "name": "stdout",
     "output_type": "stream",
     "text": [
      "age of the student is : 18\n",
      "name of rhe student is : pratik\n"
     ]
    }
   ],
   "source": [
    "'''Q3. Explain why the __init__() function is used. Give a suitable example.'''\n",
    "\n",
    "#__init__ function is used to accept the information form user \n",
    "\n",
    "#example \n",
    "class class1:\n",
    "    def __init__(self,age , name ):\n",
    "        self.name = name \n",
    "        self.age = age\n",
    "        print(\"age of the student is :\",age)\n",
    "        print(\"name of rhe student is :\", name ) \n",
    "        \n",
    "obj1 = class1(18,\"pratik\")\n",
    "\n",
    "        "
   ]
  },
  {
   "cell_type": "code",
   "execution_count": null,
   "id": "d59b0ac4-c425-46f1-9ed6-e13d6398fdfb",
   "metadata": {},
   "outputs": [],
   "source": [
    "'''Q4. Why self is used in OOPs?'''\n",
    "\n",
    "##   self is used to represent a instance of the class \n",
    "# example\n",
    "\n",
    "class class1:\n",
    "    def __init__(self,age , name ):\n",
    "        self.name = name \n",
    "        self.age = age\n",
    "        print(\"age of the student is :\",age)\n",
    "        print(\"name of rhe student is :\", name ) \n",
    "        \n",
    "obj1 = class1(18,\"pratik\")"
   ]
  },
  {
   "cell_type": "code",
   "execution_count": 28,
   "id": "dd908fc7-e029-45a6-95cd-4d141f5409e6",
   "metadata": {},
   "outputs": [
    {
     "name": "stdout",
     "output_type": "stream",
     "text": [
      "sleeping ....\n"
     ]
    }
   ],
   "source": [
    "'''Q5. What is inheritance? Give an example for each type of inheritance.\n",
    "'''\n",
    "''' inheritance is the getting and aquiring the all property and the method of the parent class\n",
    "'''\n",
    "class parent:\n",
    "    def sleep(self):\n",
    "        print(\"sleeping ....\")\n",
    "        \n",
    "class child(parent):\n",
    "    def eatting(self):\n",
    "        print(\"eatting....\")\n",
    "        \n",
    "obj2 = child()\n",
    "obj2.sleep()                   # we can acces method of the parent calss "
   ]
  },
  {
   "cell_type": "code",
   "execution_count": null,
   "id": "5c245185-2214-481a-b710-c57db88ef18f",
   "metadata": {},
   "outputs": [],
   "source": []
  }
 ],
 "metadata": {
  "kernelspec": {
   "display_name": "Python 3 (ipykernel)",
   "language": "python",
   "name": "python3"
  },
  "language_info": {
   "codemirror_mode": {
    "name": "ipython",
    "version": 3
   },
   "file_extension": ".py",
   "mimetype": "text/x-python",
   "name": "python",
   "nbconvert_exporter": "python",
   "pygments_lexer": "ipython3",
   "version": "3.10.8"
  }
 },
 "nbformat": 4,
 "nbformat_minor": 5
}
